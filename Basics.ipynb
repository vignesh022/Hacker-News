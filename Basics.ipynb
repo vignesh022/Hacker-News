{
 "cells": [
  {
   "cell_type": "markdown",
   "metadata": {
    "collapsed": true
   },
   "source": [
    "# Exploring Hacker News Posts using Python\n",
    "\n",
    "* This notebook is analysis of a sampling of the Hacker News Posts dataset from Kaggle. The link to the original dataset can be found here: [link](https://www.kaggle.com/hacker-news/hacker-news-posts)\n",
    "\n",
    "* There are 7 variables present in the dataset\n",
    "\n",
    "| Variable | Description |\n",
    "| -------- | ----------- |\n",
    "| id | The unique identifier from Hacker News for the post |\n",
    "| title | The title of the post |\n",
    "| url | The URL that the posts links to, if it the post has a URL |\n",
    "| num_points | The number of points the post acquired, calculated as the total number of upvotes minus the total number of downvotes |\n",
    "| num_comments | The number of comments that were made on the post |\n",
    "| author | The username of the person who submitted the post |\n",
    "| created_at | The date and time at which the post was submitted |\n",
    "\n",
    "* The objective of our analysis is to determine which type of posts draw the most points and comments (Ask HN or Show HN). Is the time of posting is a significant contributor to the number of comments received?"
   ]
  },
  {
   "cell_type": "code",
   "execution_count": 1,
   "metadata": {
    "collapsed": false
   },
   "outputs": [
    {
     "name": "stdout",
     "output_type": "stream",
     "text": [
      "['id', 'title', 'url', 'num_points', 'num_comments', 'author', 'created_at'] \n",
      "\n",
      "[['12224879', 'Interactive Dynamic Video', 'http://www.interactivedynamicvideo.com/', '386', '52', 'ne0phyte', '8/4/2016 11:52'], ['10975351', 'How to Use Open Source and Shut the Fuck Up at the Same Time', 'http://hueniverse.com/2016/01/26/how-to-use-open-source-and-shut-the-fuck-up-at-the-same-time/', '39', '10', 'josep2', '1/26/2016 19:30'], ['11964716', \"Florida DJs May Face Felony for April Fools' Water Joke\", 'http://www.thewire.com/entertainment/2013/04/florida-djs-april-fools-water-joke/63798/', '2', '1', 'vezycash', '6/23/2016 22:20'], ['11919867', 'Technology ventures: From Idea to Enterprise', 'https://www.amazon.com/Technology-Ventures-Enterprise-Thomas-Byers/dp/0073523429', '3', '1', 'hswarna', '6/17/2016 0:01'], ['10301696', 'Note by Note: The Making of Steinway L1037 (2007)', 'http://www.nytimes.com/2007/11/07/movies/07stein.html?_r=0', '8', '2', 'walterbell', '9/30/2015 4:12']]\n"
     ]
    }
   ],
   "source": [
    "from csv import reader\n",
    "op_file = open('hacker_news.csv')\n",
    "rd_file = reader(op_file)\n",
    "h_news = list(rd_file)\n",
    "header = h_news[0]\n",
    "h_news = h_news[1:]\n",
    "print(header, \"\\n\")\n",
    "print(h_news[:5])"
   ]
  },
  {
   "cell_type": "markdown",
   "metadata": {},
   "source": [
    "## Step 1: Isolating \"Ask\" and \"Show\" posts\n",
    "- We split up the sample dataset into 3 separate list of lists. \"Ask\" posts, \"Show\" posts and \"Other\" posts.\n",
    "- This would enable us to directly compare each category using a performance metric\n",
    "- For this analysis let us consider the \"average number of comments received per post\" as our measure of performance "
   ]
  },
  {
   "cell_type": "code",
   "execution_count": 2,
   "metadata": {
    "collapsed": false
   },
   "outputs": [
    {
     "name": "stdout",
     "output_type": "stream",
     "text": [
      "1744\n",
      "1162\n",
      "17194\n"
     ]
    }
   ],
   "source": [
    "ask_hn = []\n",
    "show_hn = []\n",
    "other_posts = []\n",
    "\n",
    "for row in h_news:\n",
    "    title = row[1]\n",
    "    if (title.lower()).startswith('ask hn'):\n",
    "        ask_hn.append(row)\n",
    "    elif (title.lower()).startswith('show hn'):\n",
    "        show_hn.append(row)\n",
    "    else:\n",
    "        other_posts.append(row)\n",
    "        \n",
    "print(len(ask_hn))\n",
    "print(len(show_hn))\n",
    "print(len(other_posts))"
   ]
  },
  {
   "cell_type": "code",
   "execution_count": 3,
   "metadata": {
    "collapsed": false
   },
   "outputs": [],
   "source": [
    "def total_comments(temp_list):\n",
    "    total_comment_count = 0\n",
    "    for each in temp_list:\n",
    "        count = each[4]\n",
    "        total_comment_count += int(count)\n",
    "        \n",
    "    return total_comment_count"
   ]
  },
  {
   "cell_type": "code",
   "execution_count": 4,
   "metadata": {
    "collapsed": false,
    "scrolled": true
   },
   "outputs": [
    {
     "name": "stdout",
     "output_type": "stream",
     "text": [
      "24483 \n",
      "\n",
      "11988 \n",
      "\n"
     ]
    }
   ],
   "source": [
    "total_ask_comments = total_comments(ask_hn)\n",
    "print(total_ask_comments,\"\\n\")\n",
    "total_show_comments = total_comments(show_hn)\n",
    "print(total_show_comments,\"\\n\")\n",
    "total_other_comments = total_comments(other_posts)\n",
    "#print(total_other_comments,\"\\n\")"
   ]
  },
  {
   "cell_type": "code",
   "execution_count": 5,
   "metadata": {
    "collapsed": false
   },
   "outputs": [
    {
     "name": "stdout",
     "output_type": "stream",
     "text": [
      "Average no. of comments per 'Ask' post:  14.038417431192661 \n",
      "\n",
      "Average no. of comments per 'Show' post:  10.31669535283993 \n",
      "\n"
     ]
    }
   ],
   "source": [
    "avg_ask_comments = total_ask_comments/len(ask_hn)\n",
    "print(\"Average no. of comments per 'Ask' post: \", avg_ask_comments,\"\\n\")\n",
    "avg_show_comments = total_show_comments/len(show_hn)\n",
    "print(\"Average no. of comments per 'Show' post: \", avg_show_comments,\"\\n\")\n",
    "avg_other_comments = total_other_comments/len(other_posts)\n",
    "#print(\"Average no. of comments per 'Other' post: \", avg_other_comments,\"\\n\")"
   ]
  },
  {
   "cell_type": "markdown",
   "metadata": {},
   "source": [
    "We can see that between \"Ask\" and \"Show\" posts the former receives atleast 3-4 more comments per post based on our analysis. \n",
    "\n",
    "The question based nature of \"Ask\" posts could be the driving force behind more commenters being drawn to them."
   ]
  },
  {
   "cell_type": "markdown",
   "metadata": {},
   "source": [
    "## Step 2: Determining the influence of time\n",
    "* Does the time when a post is created affect the number of comments it gains ?\n",
    "\n",
    "We look at the \"number of posts created per hour of the day\" alongside it's comment count to generate a frequency distribution and view the average number of comments received per hour. \n",
    "\n",
    "This should provide more insight towards the activity of the Hacker News community."
   ]
  },
  {
   "cell_type": "code",
   "execution_count": 6,
   "metadata": {
    "collapsed": true
   },
   "outputs": [],
   "source": [
    "import datetime as dtime\n",
    "dt_format = \"%m/%d/%Y %H:%M\""
   ]
  },
  {
   "cell_type": "code",
   "execution_count": 7,
   "metadata": {
    "collapsed": false
   },
   "outputs": [],
   "source": [
    "def gen_dict(temp_list):\n",
    "    \n",
    "    temp_results = []\n",
    "\n",
    "    for row in temp_list:\n",
    "        count = int(row[4])\n",
    "        create_time = row[6]\n",
    "        temp = [create_time, count]\n",
    "        temp_results.append(temp)\n",
    "    \n",
    "    hourly_post_count = {}\n",
    "    comments_per_hour = {}\n",
    "\n",
    "    for each in temp_results:\n",
    "        timestamp = dtime.datetime.strptime(each[0],dt_format)\n",
    "        t_stamp = timestamp.strftime('%H')\n",
    "    \n",
    "        if t_stamp not in hourly_post_count:\n",
    "            hourly_post_count[t_stamp] = 1\n",
    "            comments_per_hour[t_stamp] = each[1]\n",
    "        else:\n",
    "            hourly_post_count[t_stamp] += 1\n",
    "            comments_per_hour[t_stamp] += each[1]\n",
    "\n",
    "    return (hourly_post_count, comments_per_hour)"
   ]
  },
  {
   "cell_type": "code",
   "execution_count": 8,
   "metadata": {
    "collapsed": true
   },
   "outputs": [],
   "source": [
    "[counts_ask_hour, comments_ask_hour] = gen_dict(ask_hn)\n",
    "[counts_show_hour, comments_show_hour] = gen_dict(show_hn)"
   ]
  },
  {
   "cell_type": "code",
   "execution_count": 9,
   "metadata": {
    "collapsed": true
   },
   "outputs": [],
   "source": [
    "def avg_hourly(dict1, dict2):\n",
    "    result_list = []\n",
    "    \n",
    "    for key in dict1:\n",
    "        result_list.append([key, (dict2[key]/dict1[key])])\n",
    "    \n",
    "    return result_list"
   ]
  },
  {
   "cell_type": "code",
   "execution_count": 10,
   "metadata": {
    "collapsed": false,
    "scrolled": true
   },
   "outputs": [
    {
     "name": "stdout",
     "output_type": "stream",
     "text": [
      "Average no. of comments each hour for 'Ask' posts: \n",
      " [['12', 9.41095890410959], ['07', 7.852941176470588], ['01', 11.383333333333333], ['17', 11.46], ['20', 21.525], ['06', 9.022727272727273], ['10', 13.440677966101696], ['08', 10.25], ['03', 7.796296296296297], ['19', 10.8], ['09', 5.5777777777777775], ['11', 11.051724137931034], ['02', 23.810344827586206], ['16', 16.796296296296298], ['13', 14.741176470588234], ['14', 13.233644859813085], ['18', 13.20183486238532], ['00', 8.127272727272727], ['23', 7.985294117647059], ['04', 7.170212765957447], ['22', 6.746478873239437], ['21', 16.009174311926607], ['05', 10.08695652173913], ['15', 38.5948275862069]] \n",
      "\n",
      "Average no. of comments each hour for 'Show' posts: \n",
      " [['12', 11.80327868852459], ['07', 11.5], ['20', 10.2], ['10', 8.25], ['06', 8.875], ['17', 9.795698924731182], ['08', 4.852941176470588], ['03', 10.62962962962963], ['19', 9.8], ['09', 9.7], ['11', 11.159090909090908], ['01', 8.785714285714286], ['05', 3.0526315789473686], ['16', 11.655913978494624], ['13', 9.555555555555555], ['14', 13.44186046511628], ['18', 15.770491803278688], ['00', 15.709677419354838], ['23', 12.416666666666666], ['04', 9.5], ['22', 12.391304347826088], ['21', 5.787234042553192], ['02', 4.233333333333333], ['15', 8.102564102564102]] \n",
      "\n"
     ]
    }
   ],
   "source": [
    "avg_asks_hour = avg_hourly(counts_ask_hour, comments_ask_hour)\n",
    "print(\"Average no. of comments each hour for 'Ask' posts: \\n\",avg_asks_hour,'\\n')\n",
    "avg_show_hour = avg_hourly(counts_show_hour, comments_show_hour)\n",
    "print(\"Average no. of comments each hour for 'Show' posts: \\n\",avg_show_hour,'\\n')"
   ]
  },
  {
   "cell_type": "code",
   "execution_count": 11,
   "metadata": {
    "collapsed": true
   },
   "outputs": [],
   "source": [
    "def swapper(temp_list):\n",
    "    swapped = []\n",
    "    \n",
    "    for each in temp_list:\n",
    "        swapped.append([each[1], each[0]])\n",
    "        \n",
    "    sort_swap = sorted(swapped,reverse=True)\n",
    "    \n",
    "    return sort_swap"
   ]
  },
  {
   "cell_type": "code",
   "execution_count": 12,
   "metadata": {
    "collapsed": false
   },
   "outputs": [],
   "source": [
    "swapped_avg_ask = swapper(avg_asks_hour)\n",
    "swapped_avg_show = swapper(avg_show_hour)"
   ]
  },
  {
   "cell_type": "code",
   "execution_count": 13,
   "metadata": {
    "collapsed": false
   },
   "outputs": [
    {
     "name": "stdout",
     "output_type": "stream",
     "text": [
      "\n",
      " The Top Hours for \"Ask\" Post Comments \n",
      "\n",
      "15:00: 38.59 average comments per post \n",
      "\n",
      "02:00: 23.81 average comments per post \n",
      "\n",
      "20:00: 21.52 average comments per post \n",
      "\n",
      "16:00: 16.80 average comments per post \n",
      "\n",
      "21:00: 16.01 average comments per post \n",
      "\n",
      "13:00: 14.74 average comments per post \n",
      "\n",
      "10:00: 13.44 average comments per post \n",
      "\n",
      "14:00: 13.23 average comments per post \n",
      "\n",
      "18:00: 13.20 average comments per post \n",
      "\n",
      "17:00: 11.46 average comments per post \n",
      "\n",
      "01:00: 11.38 average comments per post \n",
      "\n",
      "11:00: 11.05 average comments per post \n",
      "\n",
      "19:00: 10.80 average comments per post \n",
      "\n",
      "08:00: 10.25 average comments per post \n",
      "\n",
      "05:00: 10.09 average comments per post \n",
      "\n",
      "12:00: 9.41 average comments per post \n",
      "\n",
      "06:00: 9.02 average comments per post \n",
      "\n",
      "00:00: 8.13 average comments per post \n",
      "\n",
      "23:00: 7.99 average comments per post \n",
      "\n",
      "07:00: 7.85 average comments per post \n",
      "\n",
      "03:00: 7.80 average comments per post \n",
      "\n",
      "04:00: 7.17 average comments per post \n",
      "\n",
      "22:00: 6.75 average comments per post \n",
      "\n",
      "09:00: 5.58 average comments per post \n",
      "\n"
     ]
    }
   ],
   "source": [
    "print('\\n The Top Hours for \"Ask\" Post Comments \\n')\n",
    "\n",
    "frmt = \"%H\"\n",
    "for each in swapped_avg_ask:\n",
    "    timestring = dtime.datetime.strptime(each[1],frmt)\n",
    "    ts = timestring.strftime(\"%H:%M\")\n",
    "    output = \"{}: {:.2f} average comments per post\"\n",
    "    print(output.format(ts, each[0]),'\\n')"
   ]
  },
  {
   "cell_type": "code",
   "execution_count": 14,
   "metadata": {
    "collapsed": false
   },
   "outputs": [
    {
     "name": "stdout",
     "output_type": "stream",
     "text": [
      "\n",
      " The Top Hours for \"Show\" Post Comments \n",
      "\n",
      "18:00: 15.77 average comments per post \n",
      "\n",
      "00:00: 15.71 average comments per post \n",
      "\n",
      "14:00: 13.44 average comments per post \n",
      "\n",
      "23:00: 12.42 average comments per post \n",
      "\n",
      "22:00: 12.39 average comments per post \n",
      "\n",
      "12:00: 11.80 average comments per post \n",
      "\n",
      "16:00: 11.66 average comments per post \n",
      "\n",
      "07:00: 11.50 average comments per post \n",
      "\n",
      "11:00: 11.16 average comments per post \n",
      "\n",
      "03:00: 10.63 average comments per post \n",
      "\n",
      "20:00: 10.20 average comments per post \n",
      "\n",
      "19:00: 9.80 average comments per post \n",
      "\n",
      "17:00: 9.80 average comments per post \n",
      "\n",
      "09:00: 9.70 average comments per post \n",
      "\n",
      "13:00: 9.56 average comments per post \n",
      "\n",
      "04:00: 9.50 average comments per post \n",
      "\n",
      "06:00: 8.88 average comments per post \n",
      "\n",
      "01:00: 8.79 average comments per post \n",
      "\n",
      "10:00: 8.25 average comments per post \n",
      "\n",
      "15:00: 8.10 average comments per post \n",
      "\n",
      "21:00: 5.79 average comments per post \n",
      "\n",
      "08:00: 4.85 average comments per post \n",
      "\n",
      "02:00: 4.23 average comments per post \n",
      "\n",
      "05:00: 3.05 average comments per post \n",
      "\n"
     ]
    }
   ],
   "source": [
    "print('\\n The Top Hours for \"Show\" Post Comments \\n')\n",
    "\n",
    "frmt = \"%H\"\n",
    "for each in swapped_avg_show:\n",
    "    timestring = dtime.datetime.strptime(each[1],frmt)\n",
    "    ts = timestring.strftime(\"%H:%M\")\n",
    "    output = \"{}: {:.2f} average comments per post\"\n",
    "    print(output.format(ts, each[0]),'\\n')"
   ]
  },
  {
   "cell_type": "markdown",
   "metadata": {},
   "source": [
    "# Conclusions\n",
    "\n",
    "We can see that the post comments receieved by \"Ask HN\" posts are at 3:00 PM ET or 12:00 PM PT. This corresponds perfectly with lunch hour on the west coast of USA. This could indicate that commenters might be skewed to the west coast during the day. The IP addresses of the commenters or a timestamp of their comments would shed more light on where they are commenting from.\n",
    "\n",
    "\"Ask HN\" posts seem to attract more than double the number of comments \"Show HN\" posts gather during their respective peak hours. Even at their lowest, \"Ask HN\" posts draw more attention. This could be a reflection of the helpful and/or inquisitive nature of the Hacker News community.\n",
    "\n",
    "The next step in the analysis would be to look at the \"Genre\" of the posts that draw the most attention during peak hours to diagnose what interests the community."
   ]
  }
 ],
 "metadata": {
  "kernelspec": {
   "display_name": "Python 3",
   "language": "python",
   "name": "python3"
  },
  "language_info": {
   "codemirror_mode": {
    "name": "ipython",
    "version": 3
   },
   "file_extension": ".py",
   "mimetype": "text/x-python",
   "name": "python",
   "nbconvert_exporter": "python",
   "pygments_lexer": "ipython3",
   "version": "3.4.3"
  }
 },
 "nbformat": 4,
 "nbformat_minor": 2
}
